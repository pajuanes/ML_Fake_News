{
 "cells": [
  {
   "cell_type": "markdown",
   "metadata": {},
   "source": [
    "### Generating a sample dataset"
   ]
  },
  {
   "cell_type": "code",
   "execution_count": 10,
   "metadata": {},
   "outputs": [],
   "source": [
    "import sys\n",
    "import os\n",
    "sys.path.append(os.path.abspath(os.path.join(\"..\")))"
   ]
  },
  {
   "cell_type": "code",
   "execution_count": 12,
   "metadata": {},
   "outputs": [
    {
     "name": "stdout",
     "output_type": "stream",
     "text": [
      "Sample guardado en: ../data_sample/WELFake_Dataset.csv (7213 registros)\n"
     ]
    }
   ],
   "source": [
    "# notebooks/sample_data.ipynb\n",
    "\n",
    "from utils.data_utils import create_sample\n",
    "\n",
    "# Sample estratificado del 10%\n",
    "create_sample(\n",
    "    input_path=\"../data_sample/WELFake_Dataset_full.csv\",\n",
    "    output_path=\"../data_sample/WELFake_Dataset.csv\",\n",
    "    stratify_col=\"label\",\n",
    "    frac=0.1\n",
    ")\n"
   ]
  }
 ],
 "metadata": {
  "kernelspec": {
   "display_name": "venv",
   "language": "python",
   "name": "python3"
  },
  "language_info": {
   "codemirror_mode": {
    "name": "ipython",
    "version": 3
   },
   "file_extension": ".py",
   "mimetype": "text/x-python",
   "name": "python",
   "nbconvert_exporter": "python",
   "pygments_lexer": "ipython3",
   "version": "3.10.8"
  }
 },
 "nbformat": 4,
 "nbformat_minor": 2
}
